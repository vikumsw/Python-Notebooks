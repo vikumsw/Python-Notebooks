{
 "cells": [
  {
   "cell_type": "code",
   "execution_count": 1,
   "metadata": {
    "execution": {
     "iopub.execute_input": "2020-09-18T01:09:01.319141Z",
     "iopub.status.busy": "2020-09-18T01:09:01.318320Z",
     "iopub.status.idle": "2020-09-18T01:09:02.425229Z",
     "shell.execute_reply": "2020-09-18T01:09:02.424474Z"
    },
    "id": "LQl09wl4MAgI",
    "outputId": "83a3551b-bf76-4bf3-928e-b862f04e0fd3",
    "papermill": {
     "duration": 1.127246,
     "end_time": "2020-09-18T01:09:02.425372",
     "exception": false,
     "start_time": "2020-09-18T01:09:01.298126",
     "status": "completed"
    },
    "tags": []
   },
   "outputs": [],
   "source": [
    "import pandas as pd\n",
    "import numpy as np\n",
    "import scipy as sp\n",
    "## for visualization\n",
    "import matplotlib.pyplot as plt\n",
    "import seaborn as sns"
   ]
  },
  {
   "cell_type": "code",
   "execution_count": 2,
   "metadata": {
    "execution": {
     "iopub.execute_input": "2020-09-18T01:09:02.458751Z",
     "iopub.status.busy": "2020-09-18T01:09:02.457451Z",
     "iopub.status.idle": "2020-09-18T01:09:02.464409Z",
     "shell.execute_reply": "2020-09-18T01:09:02.465200Z"
    },
    "id": "upP6O5E-Ljr4",
    "outputId": "518252dd-2f75-4a95-c252-60986e83ee57",
    "papermill": {
     "duration": 0.026928,
     "end_time": "2020-09-18T01:09:02.465368",
     "exception": false,
     "start_time": "2020-09-18T01:09:02.438440",
     "status": "completed"
    },
    "tags": []
   },
   "outputs": [
    {
     "name": "stdout",
     "output_type": "stream",
     "text": [
      "../input/roadsafety-accidents/DfTRoadSafety_Accidents_2014.csv\n"
     ]
    }
   ],
   "source": [
    "import os\n",
    "for dirname, _, filenames in os.walk('../input'):\n",
    "    for filename in filenames:\n",
    "        print(os.path.join(dirname, filename))"
   ]
  },
  {
   "cell_type": "code",
   "execution_count": 3,
   "metadata": {
    "execution": {
     "iopub.execute_input": "2020-09-18T01:09:02.503167Z",
     "iopub.status.busy": "2020-09-18T01:09:02.502146Z",
     "iopub.status.idle": "2020-09-18T01:09:03.196085Z",
     "shell.execute_reply": "2020-09-18T01:09:03.195392Z"
    },
    "id": "yEqybW_UMKfZ",
    "outputId": "1509d19a-2895-4636-89d0-5bfb8e19d640",
    "papermill": {
     "duration": 0.717293,
     "end_time": "2020-09-18T01:09:03.196226",
     "exception": false,
     "start_time": "2020-09-18T01:09:02.478933",
     "status": "completed"
    },
    "tags": []
   },
   "outputs": [
    {
     "name": "stdout",
     "output_type": "stream",
     "text": [
      "Number of rows 146322 and columns 32 \n",
      "columns : ['Accident_Index', 'Location_Easting_OSGR', 'Location_Northing_OSGR', 'Longitude', 'Latitude', 'Police_Force', 'Accident_Severity', 'Number_of_Vehicles', 'Number_of_Casualties', 'Date', 'Day_of_Week', 'Time', 'Local_Authority_(District)', 'Local_Authority_(Highway)', '1st_Road_Class', '1st_Road_Number', 'Road_Type', 'Speed_limit', 'Junction_Detail', 'Junction_Control', '2nd_Road_Class', '2nd_Road_Number', 'Pedestrian_Crossing-Human_Control', 'Pedestrian_Crossing-Physical_Facilities', 'Light_Conditions', 'Weather_Conditions', 'Road_Surface_Conditions', 'Special_Conditions_at_Site', 'Carriageway_Hazards', 'Urban_or_Rural_Area', 'Did_Police_Officer_Attend_Scene_of_Accident', 'LSOA_of_Accident_Location']\n"
     ]
    }
   ],
   "source": [
    "data_directory=\"../input/roadsafety-accidents/\"\n",
    "csv_file=\"DfTRoadSafety_Accidents_2014.csv\"\n",
    "\n",
    "#load data to pandas dataframe \n",
    "frame=pd.read_csv(data_directory + csv_file)\n",
    "\n",
    "print (\"Number of rows %d and columns %d \" % (frame.shape[0],frame.shape[1] ))\n",
    "#number of rows 146322 and columns 32\n",
    " \n",
    "#put column namea into a list for later usage\n",
    "colnames=list(frame.columns.values)\n",
    "print (\"columns : \"+ str(colnames))"
   ]
  },
  {
   "cell_type": "code",
   "execution_count": 4,
   "metadata": {
    "execution": {
     "iopub.execute_input": "2020-09-18T01:09:03.254198Z",
     "iopub.status.busy": "2020-09-18T01:09:03.253046Z",
     "iopub.status.idle": "2020-09-18T01:09:03.273027Z",
     "shell.execute_reply": "2020-09-18T01:09:03.273653Z"
    },
    "id": "wVhRv5MOMkNw",
    "outputId": "1ded9b89-06e3-43f4-9682-a2a5a89f2db1",
    "papermill": {
     "duration": 0.063718,
     "end_time": "2020-09-18T01:09:03.273837",
     "exception": false,
     "start_time": "2020-09-18T01:09:03.210119",
     "status": "completed"
    },
    "tags": []
   },
   "outputs": [
    {
     "data": {
      "text/html": [
       "<div>\n",
       "<style scoped>\n",
       "    .dataframe tbody tr th:only-of-type {\n",
       "        vertical-align: middle;\n",
       "    }\n",
       "\n",
       "    .dataframe tbody tr th {\n",
       "        vertical-align: top;\n",
       "    }\n",
       "\n",
       "    .dataframe thead th {\n",
       "        text-align: right;\n",
       "    }\n",
       "</style>\n",
       "<table border=\"1\" class=\"dataframe\">\n",
       "  <thead>\n",
       "    <tr style=\"text-align: right;\">\n",
       "      <th></th>\n",
       "      <th>Accident_Index</th>\n",
       "      <th>Location_Easting_OSGR</th>\n",
       "      <th>Location_Northing_OSGR</th>\n",
       "      <th>Longitude</th>\n",
       "      <th>Latitude</th>\n",
       "      <th>Police_Force</th>\n",
       "      <th>Accident_Severity</th>\n",
       "      <th>Number_of_Vehicles</th>\n",
       "      <th>Number_of_Casualties</th>\n",
       "      <th>Date</th>\n",
       "      <th>...</th>\n",
       "      <th>Pedestrian_Crossing-Human_Control</th>\n",
       "      <th>Pedestrian_Crossing-Physical_Facilities</th>\n",
       "      <th>Light_Conditions</th>\n",
       "      <th>Weather_Conditions</th>\n",
       "      <th>Road_Surface_Conditions</th>\n",
       "      <th>Special_Conditions_at_Site</th>\n",
       "      <th>Carriageway_Hazards</th>\n",
       "      <th>Urban_or_Rural_Area</th>\n",
       "      <th>Did_Police_Officer_Attend_Scene_of_Accident</th>\n",
       "      <th>LSOA_of_Accident_Location</th>\n",
       "    </tr>\n",
       "  </thead>\n",
       "  <tbody>\n",
       "    <tr>\n",
       "      <th>0</th>\n",
       "      <td>201401BS70001</td>\n",
       "      <td>524600</td>\n",
       "      <td>179020</td>\n",
       "      <td>-0.206443</td>\n",
       "      <td>51.496345</td>\n",
       "      <td>1</td>\n",
       "      <td>3</td>\n",
       "      <td>2</td>\n",
       "      <td>1</td>\n",
       "      <td>09/01/2014</td>\n",
       "      <td>...</td>\n",
       "      <td>0</td>\n",
       "      <td>0</td>\n",
       "      <td>1</td>\n",
       "      <td>2</td>\n",
       "      <td>2</td>\n",
       "      <td>0</td>\n",
       "      <td>0</td>\n",
       "      <td>1</td>\n",
       "      <td>2</td>\n",
       "      <td>E01002814</td>\n",
       "    </tr>\n",
       "    <tr>\n",
       "      <th>1</th>\n",
       "      <td>201401BS70002</td>\n",
       "      <td>525780</td>\n",
       "      <td>178290</td>\n",
       "      <td>-0.189713</td>\n",
       "      <td>51.489523</td>\n",
       "      <td>1</td>\n",
       "      <td>3</td>\n",
       "      <td>2</td>\n",
       "      <td>1</td>\n",
       "      <td>20/01/2014</td>\n",
       "      <td>...</td>\n",
       "      <td>0</td>\n",
       "      <td>5</td>\n",
       "      <td>7</td>\n",
       "      <td>1</td>\n",
       "      <td>1</td>\n",
       "      <td>0</td>\n",
       "      <td>0</td>\n",
       "      <td>1</td>\n",
       "      <td>2</td>\n",
       "      <td>E01002894</td>\n",
       "    </tr>\n",
       "    <tr>\n",
       "      <th>2</th>\n",
       "      <td>201401BS70003</td>\n",
       "      <td>526880</td>\n",
       "      <td>178430</td>\n",
       "      <td>-0.173827</td>\n",
       "      <td>51.490536</td>\n",
       "      <td>1</td>\n",
       "      <td>3</td>\n",
       "      <td>2</td>\n",
       "      <td>1</td>\n",
       "      <td>21/01/2014</td>\n",
       "      <td>...</td>\n",
       "      <td>0</td>\n",
       "      <td>0</td>\n",
       "      <td>1</td>\n",
       "      <td>1</td>\n",
       "      <td>1</td>\n",
       "      <td>0</td>\n",
       "      <td>0</td>\n",
       "      <td>1</td>\n",
       "      <td>1</td>\n",
       "      <td>E01002822</td>\n",
       "    </tr>\n",
       "    <tr>\n",
       "      <th>3</th>\n",
       "      <td>201401BS70004</td>\n",
       "      <td>525580</td>\n",
       "      <td>179080</td>\n",
       "      <td>-0.192311</td>\n",
       "      <td>51.496668</td>\n",
       "      <td>1</td>\n",
       "      <td>3</td>\n",
       "      <td>1</td>\n",
       "      <td>1</td>\n",
       "      <td>15/01/2014</td>\n",
       "      <td>...</td>\n",
       "      <td>0</td>\n",
       "      <td>1</td>\n",
       "      <td>4</td>\n",
       "      <td>1</td>\n",
       "      <td>1</td>\n",
       "      <td>0</td>\n",
       "      <td>0</td>\n",
       "      <td>1</td>\n",
       "      <td>2</td>\n",
       "      <td>E01002812</td>\n",
       "    </tr>\n",
       "    <tr>\n",
       "      <th>4</th>\n",
       "      <td>201401BS70006</td>\n",
       "      <td>527040</td>\n",
       "      <td>179030</td>\n",
       "      <td>-0.171308</td>\n",
       "      <td>51.495892</td>\n",
       "      <td>1</td>\n",
       "      <td>3</td>\n",
       "      <td>2</td>\n",
       "      <td>1</td>\n",
       "      <td>09/01/2014</td>\n",
       "      <td>...</td>\n",
       "      <td>0</td>\n",
       "      <td>8</td>\n",
       "      <td>1</td>\n",
       "      <td>1</td>\n",
       "      <td>1</td>\n",
       "      <td>0</td>\n",
       "      <td>0</td>\n",
       "      <td>1</td>\n",
       "      <td>1</td>\n",
       "      <td>E01002821</td>\n",
       "    </tr>\n",
       "    <tr>\n",
       "      <th>5</th>\n",
       "      <td>201401BS70008</td>\n",
       "      <td>524750</td>\n",
       "      <td>178970</td>\n",
       "      <td>-0.204301</td>\n",
       "      <td>51.495863</td>\n",
       "      <td>1</td>\n",
       "      <td>3</td>\n",
       "      <td>3</td>\n",
       "      <td>1</td>\n",
       "      <td>17/01/2014</td>\n",
       "      <td>...</td>\n",
       "      <td>0</td>\n",
       "      <td>0</td>\n",
       "      <td>1</td>\n",
       "      <td>1</td>\n",
       "      <td>1</td>\n",
       "      <td>0</td>\n",
       "      <td>0</td>\n",
       "      <td>1</td>\n",
       "      <td>1</td>\n",
       "      <td>E01002814</td>\n",
       "    </tr>\n",
       "    <tr>\n",
       "      <th>6</th>\n",
       "      <td>201401BS70009</td>\n",
       "      <td>524950</td>\n",
       "      <td>179240</td>\n",
       "      <td>-0.201326</td>\n",
       "      <td>51.498245</td>\n",
       "      <td>1</td>\n",
       "      <td>3</td>\n",
       "      <td>2</td>\n",
       "      <td>1</td>\n",
       "      <td>10/01/2014</td>\n",
       "      <td>...</td>\n",
       "      <td>0</td>\n",
       "      <td>0</td>\n",
       "      <td>4</td>\n",
       "      <td>1</td>\n",
       "      <td>2</td>\n",
       "      <td>0</td>\n",
       "      <td>0</td>\n",
       "      <td>1</td>\n",
       "      <td>1</td>\n",
       "      <td>E01002817</td>\n",
       "    </tr>\n",
       "    <tr>\n",
       "      <th>7</th>\n",
       "      <td>201401BS70010</td>\n",
       "      <td>523850</td>\n",
       "      <td>181450</td>\n",
       "      <td>-0.216389</td>\n",
       "      <td>51.518349</td>\n",
       "      <td>1</td>\n",
       "      <td>3</td>\n",
       "      <td>2</td>\n",
       "      <td>1</td>\n",
       "      <td>30/01/2014</td>\n",
       "      <td>...</td>\n",
       "      <td>0</td>\n",
       "      <td>8</td>\n",
       "      <td>4</td>\n",
       "      <td>2</td>\n",
       "      <td>2</td>\n",
       "      <td>0</td>\n",
       "      <td>0</td>\n",
       "      <td>1</td>\n",
       "      <td>1</td>\n",
       "      <td>E01002909</td>\n",
       "    </tr>\n",
       "    <tr>\n",
       "      <th>8</th>\n",
       "      <td>201401BS70011</td>\n",
       "      <td>524500</td>\n",
       "      <td>180260</td>\n",
       "      <td>-0.207445</td>\n",
       "      <td>51.507511</td>\n",
       "      <td>1</td>\n",
       "      <td>3</td>\n",
       "      <td>2</td>\n",
       "      <td>1</td>\n",
       "      <td>10/01/2014</td>\n",
       "      <td>...</td>\n",
       "      <td>0</td>\n",
       "      <td>0</td>\n",
       "      <td>1</td>\n",
       "      <td>1</td>\n",
       "      <td>1</td>\n",
       "      <td>0</td>\n",
       "      <td>0</td>\n",
       "      <td>1</td>\n",
       "      <td>1</td>\n",
       "      <td>E01002871</td>\n",
       "    </tr>\n",
       "    <tr>\n",
       "      <th>9</th>\n",
       "      <td>201401BS70013</td>\n",
       "      <td>526450</td>\n",
       "      <td>179230</td>\n",
       "      <td>-0.179731</td>\n",
       "      <td>51.497822</td>\n",
       "      <td>1</td>\n",
       "      <td>3</td>\n",
       "      <td>2</td>\n",
       "      <td>1</td>\n",
       "      <td>05/01/2014</td>\n",
       "      <td>...</td>\n",
       "      <td>0</td>\n",
       "      <td>0</td>\n",
       "      <td>4</td>\n",
       "      <td>2</td>\n",
       "      <td>2</td>\n",
       "      <td>0</td>\n",
       "      <td>0</td>\n",
       "      <td>1</td>\n",
       "      <td>1</td>\n",
       "      <td>E01002892</td>\n",
       "    </tr>\n",
       "  </tbody>\n",
       "</table>\n",
       "<p>10 rows × 32 columns</p>\n",
       "</div>"
      ],
      "text/plain": [
       "  Accident_Index  Location_Easting_OSGR  Location_Northing_OSGR  Longitude  \\\n",
       "0  201401BS70001                 524600                  179020  -0.206443   \n",
       "1  201401BS70002                 525780                  178290  -0.189713   \n",
       "2  201401BS70003                 526880                  178430  -0.173827   \n",
       "3  201401BS70004                 525580                  179080  -0.192311   \n",
       "4  201401BS70006                 527040                  179030  -0.171308   \n",
       "5  201401BS70008                 524750                  178970  -0.204301   \n",
       "6  201401BS70009                 524950                  179240  -0.201326   \n",
       "7  201401BS70010                 523850                  181450  -0.216389   \n",
       "8  201401BS70011                 524500                  180260  -0.207445   \n",
       "9  201401BS70013                 526450                  179230  -0.179731   \n",
       "\n",
       "    Latitude  Police_Force  Accident_Severity  Number_of_Vehicles  \\\n",
       "0  51.496345             1                  3                   2   \n",
       "1  51.489523             1                  3                   2   \n",
       "2  51.490536             1                  3                   2   \n",
       "3  51.496668             1                  3                   1   \n",
       "4  51.495892             1                  3                   2   \n",
       "5  51.495863             1                  3                   3   \n",
       "6  51.498245             1                  3                   2   \n",
       "7  51.518349             1                  3                   2   \n",
       "8  51.507511             1                  3                   2   \n",
       "9  51.497822             1                  3                   2   \n",
       "\n",
       "   Number_of_Casualties        Date  ...  Pedestrian_Crossing-Human_Control  \\\n",
       "0                     1  09/01/2014  ...                                  0   \n",
       "1                     1  20/01/2014  ...                                  0   \n",
       "2                     1  21/01/2014  ...                                  0   \n",
       "3                     1  15/01/2014  ...                                  0   \n",
       "4                     1  09/01/2014  ...                                  0   \n",
       "5                     1  17/01/2014  ...                                  0   \n",
       "6                     1  10/01/2014  ...                                  0   \n",
       "7                     1  30/01/2014  ...                                  0   \n",
       "8                     1  10/01/2014  ...                                  0   \n",
       "9                     1  05/01/2014  ...                                  0   \n",
       "\n",
       "  Pedestrian_Crossing-Physical_Facilities  Light_Conditions  \\\n",
       "0                                       0                 1   \n",
       "1                                       5                 7   \n",
       "2                                       0                 1   \n",
       "3                                       1                 4   \n",
       "4                                       8                 1   \n",
       "5                                       0                 1   \n",
       "6                                       0                 4   \n",
       "7                                       8                 4   \n",
       "8                                       0                 1   \n",
       "9                                       0                 4   \n",
       "\n",
       "  Weather_Conditions  Road_Surface_Conditions  Special_Conditions_at_Site  \\\n",
       "0                  2                        2                           0   \n",
       "1                  1                        1                           0   \n",
       "2                  1                        1                           0   \n",
       "3                  1                        1                           0   \n",
       "4                  1                        1                           0   \n",
       "5                  1                        1                           0   \n",
       "6                  1                        2                           0   \n",
       "7                  2                        2                           0   \n",
       "8                  1                        1                           0   \n",
       "9                  2                        2                           0   \n",
       "\n",
       "   Carriageway_Hazards  Urban_or_Rural_Area  \\\n",
       "0                    0                    1   \n",
       "1                    0                    1   \n",
       "2                    0                    1   \n",
       "3                    0                    1   \n",
       "4                    0                    1   \n",
       "5                    0                    1   \n",
       "6                    0                    1   \n",
       "7                    0                    1   \n",
       "8                    0                    1   \n",
       "9                    0                    1   \n",
       "\n",
       "   Did_Police_Officer_Attend_Scene_of_Accident  LSOA_of_Accident_Location  \n",
       "0                                            2                  E01002814  \n",
       "1                                            2                  E01002894  \n",
       "2                                            1                  E01002822  \n",
       "3                                            2                  E01002812  \n",
       "4                                            1                  E01002821  \n",
       "5                                            1                  E01002814  \n",
       "6                                            1                  E01002817  \n",
       "7                                            1                  E01002909  \n",
       "8                                            1                  E01002871  \n",
       "9                                            1                  E01002892  \n",
       "\n",
       "[10 rows x 32 columns]"
      ]
     },
     "execution_count": 4,
     "metadata": {},
     "output_type": "execute_result"
    }
   ],
   "source": [
    "# have a look\n",
    "frame.head(10)"
   ]
  },
  {
   "cell_type": "code",
   "execution_count": 5,
   "metadata": {
    "execution": {
     "iopub.execute_input": "2020-09-18T01:09:03.312812Z",
     "iopub.status.busy": "2020-09-18T01:09:03.311852Z",
     "iopub.status.idle": "2020-09-18T01:09:03.318439Z",
     "shell.execute_reply": "2020-09-18T01:09:03.317725Z"
    },
    "id": "ibBCz1R5MfHv",
    "outputId": "58a9b00e-c164-423b-e28f-ba6297c3e2b1",
    "papermill": {
     "duration": 0.029915,
     "end_time": "2020-09-18T01:09:03.318583",
     "exception": false,
     "start_time": "2020-09-18T01:09:03.288668",
     "status": "completed"
    },
    "tags": []
   },
   "outputs": [
    {
     "name": "stdout",
     "output_type": "stream",
     "text": [
      "[2 1]\n"
     ]
    }
   ],
   "source": [
    "#look at distribution of target variable\n",
    "target=\"Did_Police_Officer_Attend_Scene_of_Accident\"\n",
    "unique_vales=frame[target].unique()\n",
    "print (unique_vales)"
   ]
  },
  {
   "cell_type": "code",
   "execution_count": 6,
   "metadata": {
    "execution": {
     "iopub.execute_input": "2020-09-18T01:09:03.360682Z",
     "iopub.status.busy": "2020-09-18T01:09:03.359882Z",
     "iopub.status.idle": "2020-09-18T01:09:03.653867Z",
     "shell.execute_reply": "2020-09-18T01:09:03.653092Z"
    },
    "id": "sFQGm1PNOAO9",
    "outputId": "9c3b2f06-a157-424c-e0fb-9678a1d810b2",
    "papermill": {
     "duration": 0.319941,
     "end_time": "2020-09-18T01:09:03.654007",
     "exception": false,
     "start_time": "2020-09-18T01:09:03.334066",
     "status": "completed"
    },
    "tags": []
   },
   "outputs": [
    {
     "data": {
      "image/png": "[encoded data removed]",
      "text/plain": [
       "<Figure size 936x360 with 2 Axes>"
      ]
     },
     "metadata": {
      "needs_background": "light"
     },
     "output_type": "display_data"
    }
   ],
   "source": [
    "f,ax=plt.subplots(1,2,figsize=(13,5))\n",
    "frame[target].value_counts().plot.pie(explode=[0,0.05],autopct='%1.1f%%',ax=ax[0],shadow=True)\n",
    "ax[0].set_title(target)\n",
    "ax[0].set_ylabel('')\n",
    "sns.countplot(target,data=frame,ax=ax[1])\n",
    "ax[1].set_title(target)\n",
    "plt.show()"
   ]
  },
  {
   "cell_type": "code",
   "execution_count": 7,
   "metadata": {
    "execution": {
     "iopub.execute_input": "2020-09-18T01:09:03.694151Z",
     "iopub.status.busy": "2020-09-18T01:09:03.693305Z",
     "iopub.status.idle": "2020-09-18T01:09:03.700560Z",
     "shell.execute_reply": "2020-09-18T01:09:03.699946Z"
    },
    "id": "qFA7CvRgPpDQ",
    "outputId": "b23335f9-d66e-45be-a98e-370d8fde88df",
    "papermill": {
     "duration": 0.029648,
     "end_time": "2020-09-18T01:09:03.700698",
     "exception": false,
     "start_time": "2020-09-18T01:09:03.671050",
     "status": "completed"
    },
    "tags": []
   },
   "outputs": [
    {
     "name": "stdout",
     "output_type": "stream",
     "text": [
      "{1: 119607, 2: 26715}\n"
     ]
    }
   ],
   "source": [
    "#find dstribution of these values\n",
    "cnt = frame[target].value_counts().to_dict()\n",
    "print (cnt)"
   ]
  },
  {
   "cell_type": "code",
   "execution_count": 8,
   "metadata": {
    "execution": {
     "iopub.execute_input": "2020-09-18T01:09:03.753796Z",
     "iopub.status.busy": "2020-09-18T01:09:03.752610Z",
     "iopub.status.idle": "2020-09-18T01:09:03.806107Z",
     "shell.execute_reply": "2020-09-18T01:09:03.805464Z"
    },
    "id": "6tTj7E5iPzT4",
    "outputId": "0780d834-54fb-4e1a-a20e-e9c8666e03e1",
    "papermill": {
     "duration": 0.087532,
     "end_time": "2020-09-18T01:09:03.806250",
     "exception": false,
     "start_time": "2020-09-18T01:09:03.718718",
     "status": "completed"
    },
    "tags": []
   },
   "outputs": [
    {
     "data": {
      "image/png": "[encoded data removed]",
      "text/plain": [
       "<Figure size 432x288 with 1 Axes>"
      ]
     },
     "metadata": {},
     "output_type": "display_data"
    }
   ],
   "source": [
    "# Pie chart, where the slices will be ordered and plotted counter-clockwise:\n",
    "labels = unique_vales\n",
    "sizes = [cnt[k] for k in unique_vales]\n",
    "\n",
    "fig1, ax1 = plt.subplots()\n",
    "ax1.pie(sizes,  labels=labels, autopct='%1.1f%%',shadow=True, startangle=90)\n",
    "plt.show()"
   ]
  },
  {
   "cell_type": "code",
   "execution_count": 9,
   "metadata": {
    "execution": {
     "iopub.execute_input": "2020-09-18T01:09:03.864291Z",
     "iopub.status.busy": "2020-09-18T01:09:03.863476Z",
     "iopub.status.idle": "2020-09-18T01:09:04.019543Z",
     "shell.execute_reply": "2020-09-18T01:09:04.018441Z"
    },
    "id": "Gep6HoXPP6S6",
    "outputId": "68d80dbb-e4a0-4c43-9655-cc0408acb533",
    "papermill": {
     "duration": 0.194509,
     "end_time": "2020-09-18T01:09:04.019732",
     "exception": false,
     "start_time": "2020-09-18T01:09:03.825223",
     "status": "completed"
    },
    "tags": []
   },
   "outputs": [
    {
     "name": "stdout",
     "output_type": "stream",
     "text": [
      " field Accident_Index with index 0 has 146322 unique values \n",
      " field Location_Easting_OSGR with index 1 has 92575 unique values \n",
      " field Location_Northing_OSGR with index 2 has 96296 unique values \n",
      " field Longitude with index 3 has 138878 unique values \n",
      " field Latitude with index 4 has 137376 unique values \n",
      " field Police_Force with index 5 has 51 unique values \n",
      " field Accident_Severity with index 6 has 3 unique values \n",
      " field Number_of_Vehicles with index 7 has 14 unique values \n",
      " field Number_of_Casualties with index 8 has 26 unique values \n",
      " field Date with index 9 has 365 unique values \n",
      " field Day_of_Week with index 10 has 7 unique values \n",
      " field Time with index 11 has 1439 unique values \n",
      " field Local_Authority_(District) with index 12 has 380 unique values \n",
      " field Local_Authority_(Highway) with index 13 has 207 unique values \n",
      " field 1st_Road_Class with index 14 has 6 unique values \n",
      " field 1st_Road_Number with index 15 has 4384 unique values \n",
      " field Road_Type with index 16 has 6 unique values \n",
      " field Speed_limit with index 17 has 6 unique values \n",
      " field Junction_Detail with index 18 has 9 unique values \n",
      " field Junction_Control with index 19 has 5 unique values \n",
      " field 2nd_Road_Class with index 20 has 7 unique values \n",
      " field 2nd_Road_Number with index 21 has 3869 unique values \n",
      " field Pedestrian_Crossing-Human_Control with index 22 has 3 unique values \n",
      " field Pedestrian_Crossing-Physical_Facilities with index 23 has 6 unique values \n",
      " field Light_Conditions with index 24 has 5 unique values \n",
      " field Weather_Conditions with index 25 has 9 unique values \n",
      " field Road_Surface_Conditions with index 26 has 6 unique values \n",
      " field Special_Conditions_at_Site with index 27 has 9 unique values \n",
      " field Carriageway_Hazards with index 28 has 7 unique values \n",
      " field Urban_or_Rural_Area with index 29 has 2 unique values \n",
      " field Did_Police_Officer_Attend_Scene_of_Accident with index 30 has 2 unique values \n",
      " field LSOA_of_Accident_Location with index 31 has 29123 unique values \n"
     ]
    }
   ],
   "source": [
    "# see how many unique values each field has, to get a feeling for which fields needs to be\n",
    "#strictly treated as numerical or categorical\n",
    "\n",
    "for index,column_name in enumerate(colnames): # for each column in the frame\n",
    "    unqiue_values_of_col_x=frame[column_name].unique() # retrieve unique values as an array\n",
    "    print (\" field %s with index %d has %d unique values \" % (column_name,index, len(unqiue_values_of_col_x) ))"
   ]
  },
  {
   "cell_type": "code",
   "execution_count": 10,
   "metadata": {
    "execution": {
     "iopub.execute_input": "2020-09-18T01:09:04.069523Z",
     "iopub.status.busy": "2020-09-18T01:09:04.068705Z",
     "iopub.status.idle": "2020-09-18T01:09:07.644935Z",
     "shell.execute_reply": "2020-09-18T01:09:07.644143Z"
    },
    "id": "mBZRBguLQJ6k",
    "outputId": "39ee1fa0-87e3-4ce1-87bf-ae39150b2986",
    "papermill": {
     "duration": 3.605096,
     "end_time": "2020-09-18T01:09:07.645067",
     "exception": false,
     "start_time": "2020-09-18T01:09:04.039971",
     "status": "completed"
    },
    "tags": []
   },
   "outputs": [
    {
     "name": "stdout",
     "output_type": "stream",
     "text": [
      "                  mean  count\n",
      "Police_Force                 \n",
      "1             1.174519  25682\n",
      "3             1.236936   1397\n",
      "4             1.000000   3879\n",
      "5             1.185094   2831\n",
      "6             1.124126   4004\n",
      "7             1.206135   2673\n",
      "10            1.256723   3198\n",
      "11            1.268116   1242\n",
      "12            1.181238   2036\n",
      "13            1.194527   5043\n",
      "14            1.168876   3168\n",
      "16            1.251766   2689\n",
      "17            1.240720    889\n",
      "20            1.264680   5603\n",
      "21            1.182208   2799\n",
      "22            1.216588   2327\n",
      "23            1.142166   1653\n",
      "30            1.254167   2400\n",
      "31            1.255903   2880\n",
      "32            1.163628   2194\n",
      "33            1.160145   2479\n",
      "34            1.178324   1301\n",
      "35            1.215227   2049\n",
      "36            1.150372   1882\n",
      "37            1.135150   1761\n",
      "40            1.196576   1577\n",
      "41            1.190205   2634\n",
      "42            1.167598   4117\n",
      "43            1.178670   5429\n",
      "44            1.186658   4527\n",
      "45            1.178950   3962\n",
      "46            1.183368   5279\n",
      "47            1.230859   4297\n",
      "48            1.137931    348\n",
      "50            1.183514   3967\n",
      "52            1.232302   3263\n",
      "53            1.155388    798\n",
      "54            1.130241   1574\n",
      "55            1.214677   1826\n",
      "60            1.214134   1415\n",
      "61            1.176471    884\n",
      "62            1.025773   2328\n",
      "63            1.130504   1249\n",
      "91            1.081395    516\n",
      "92            1.089974    778\n",
      "93            1.037255    510\n",
      "94            1.175182    411\n",
      "95            1.215278   2160\n",
      "96            1.202643    454\n",
      "97            1.180274   3650\n",
      "98            1.100000    310\n"
     ]
    },
    {
     "data": {
      "image/png": "[encoded data removed]",
      "text/plain": [
       "<Figure size 432x288 with 1 Axes>"
      ]
     },
     "metadata": {
      "needs_background": "light"
     },
     "output_type": "display_data"
    },
    {
     "name": "stdout",
     "output_type": "stream",
     "text": [
      "                       mean   count\n",
      "Accident_Severity                  \n",
      "1                  1.012063    1658\n",
      "2                  1.093877   20676\n",
      "3                  1.199648  123988\n"
     ]
    },
    {
     "data": {
      "image/png": "[encoded data removed]",
      "text/plain": [
       "<Figure size 432x288 with 1 Axes>"
      ]
     },
     "metadata": {
      "needs_background": "light"
     },
     "output_type": "display_data"
    },
    {
     "name": "stdout",
     "output_type": "stream",
     "text": [
      "                        mean  count\n",
      "Number_of_Vehicles                 \n",
      "1                   1.168840  43171\n",
      "2                   1.207987  88592\n",
      "3                   1.079795  11329\n",
      "4                   1.036550   2435\n",
      "5                   1.009381    533\n",
      "6                   1.006369    157\n",
      "7                   1.000000     54\n",
      "8                   1.030303     33\n",
      "9                   1.000000      8\n",
      "10                  1.000000      6\n",
      "11                  1.000000      1\n",
      "13                  1.000000      1\n",
      "19                  1.000000      1\n",
      "21                  1.000000      1\n"
     ]
    },
    {
     "data": {
      "image/png": "[encoded data removed]",
      "text/plain": [
       "<Figure size 432x288 with 1 Axes>"
      ]
     },
     "metadata": {
      "needs_background": "light"
     },
     "output_type": "display_data"
    },
    {
     "name": "stdout",
     "output_type": "stream",
     "text": [
      "                 mean  count\n",
      "Day_of_Week                 \n",
      "1            1.147930  15940\n",
      "2            1.187977  21093\n",
      "3            1.195896  22318\n",
      "4            1.198109  22210\n",
      "5            1.189256  21780\n",
      "6            1.185351  23960\n",
      "7            1.160717  19021\n"
     ]
    },
    {
     "data": {
      "image/png": "[encoded data removed]",
      "text/plain": [
       "<Figure size 432x288 with 1 Axes>"
      ]
     },
     "metadata": {
      "needs_background": "light"
     },
     "output_type": "display_data"
    },
    {
     "name": "stdout",
     "output_type": "stream",
     "text": [
      "                    mean  count\n",
      "1st_Road_Class                 \n",
      "1               1.074152   5246\n",
      "2               1.078125    384\n",
      "3               1.162529  67828\n",
      "4               1.175201  18573\n",
      "5               1.183515  12969\n",
      "6               1.233241  41322\n"
     ]
    },
    {
     "data": {
      "image/png": "[encoded data removed]",
      "text/plain": [
       "<Figure size 432x288 with 1 Axes>"
      ]
     },
     "metadata": {
      "needs_background": "light"
     },
     "output_type": "display_data"
    },
    {
     "name": "stdout",
     "output_type": "stream",
     "text": [
      "               mean   count\n",
      "Road_Type                  \n",
      "1          1.254429   10329\n",
      "2          1.269165    2935\n",
      "3          1.127935   20823\n",
      "6          1.183207  110187\n",
      "7          1.166018    1542\n",
      "9          1.375494     506\n"
     ]
    },
    {
     "data": {
      "image/png": "[encoded data removed]",
      "text/plain": [
       "<Figure size 432x288 with 1 Axes>"
      ]
     },
     "metadata": {
      "needs_background": "light"
     },
     "output_type": "display_data"
    },
    {
     "name": "stdout",
     "output_type": "stream",
     "text": [
      "                 mean  count\n",
      "Speed_limit                 \n",
      "20           1.286717   3418\n",
      "30           1.222218  94997\n",
      "40           1.143713  12017\n",
      "50           1.088149   5797\n",
      "60           1.083034  20016\n",
      "70           1.071946  10077\n"
     ]
    },
    {
     "data": {
      "image/png": "[encoded data removed]",
      "text/plain": [
       "<Figure size 432x288 with 1 Axes>"
      ]
     },
     "metadata": {
      "needs_background": "light"
     },
     "output_type": "display_data"
    },
    {
     "name": "stdout",
     "output_type": "stream",
     "text": [
      "                     mean  count\n",
      "Junction_Detail                 \n",
      "0                1.163074  56410\n",
      "1                1.264393  13253\n",
      "2                1.234663   1956\n",
      "3                1.189257  48014\n",
      "5                1.114052   2078\n",
      "6                1.159057  14586\n",
      "7                1.183874   1017\n",
      "8                1.199728   5883\n",
      "9                1.175040   3125\n"
     ]
    },
    {
     "data": {
      "image/png": "[encoded data removed]",
      "text/plain": [
       "<Figure size 432x288 with 1 Axes>"
      ]
     },
     "metadata": {
      "needs_background": "light"
     },
     "output_type": "display_data"
    },
    {
     "name": "stdout",
     "output_type": "stream",
     "text": [
      "                      mean  count\n",
      "Junction_Control                 \n",
      "-1                1.162998  56467\n",
      " 1                1.205000    200\n",
      " 2                1.204937  15273\n",
      " 3                1.202177    643\n",
      " 4                1.192707  73739\n"
     ]
    },
    {
     "data": {
      "image/png": "[encoded data removed]",
      "text/plain": [
       "<Figure size 432x288 with 1 Axes>"
      ]
     },
     "metadata": {
      "needs_background": "light"
     },
     "output_type": "display_data"
    },
    {
     "name": "stdout",
     "output_type": "stream",
     "text": [
      "                    mean  count\n",
      "2nd_Road_Class                 \n",
      "-1              1.163953  56998\n",
      " 1              1.144444    990\n",
      " 2              1.130000    100\n",
      " 3              1.241767  14514\n",
      " 4              1.197861   5984\n",
      " 5              1.158269   6887\n",
      " 6              1.187858  60849\n"
     ]
    },
    {
     "data": {
      "image/png": "[encoded data removed]",
      "text/plain": [
       "<Figure size 432x288 with 1 Axes>"
      ]
     },
     "metadata": {
      "needs_background": "light"
     },
     "output_type": "display_data"
    },
    {
     "name": "stdout",
     "output_type": "stream",
     "text": [
      "                                       mean   count\n",
      "Pedestrian_Crossing-Human_Control                  \n",
      "0                                  1.182427  145538\n",
      "1                                  1.234604     341\n",
      "2                                  1.191874     443\n"
     ]
    },
    {
     "data": {
      "image/png": "[encoded data removed]",
      "text/plain": [
       "<Figure size 432x288 with 1 Axes>"
      ]
     },
     "metadata": {
      "needs_background": "light"
     },
     "output_type": "display_data"
    },
    {
     "name": "stdout",
     "output_type": "stream",
     "text": [
      "                                             mean   count\n",
      "Pedestrian_Crossing-Physical_Facilities                  \n",
      "0                                        1.176982  118108\n",
      "1                                        1.244523    4519\n",
      "4                                        1.213699    8526\n",
      "5                                        1.195249   11324\n",
      "7                                        1.204409     499\n",
      "8                                        1.170950    3346\n"
     ]
    },
    {
     "data": {
      "image/png": "[encoded data removed]",
      "text/plain": [
       "<Figure size 432x288 with 1 Axes>"
      ]
     },
     "metadata": {
      "needs_background": "light"
     },
     "output_type": "display_data"
    },
    {
     "name": "stdout",
     "output_type": "stream",
     "text": [
      "                      mean   count\n",
      "Light_Conditions                  \n",
      "1                 1.192910  108071\n",
      "4                 1.164083   28449\n",
      "5                 1.138761     872\n",
      "6                 1.058203    7199\n",
      "7                 1.380705    1731\n"
     ]
    },
    {
     "data": {
      "image/png": "[encoded data removed]",
      "text/plain": [
       "<Figure size 432x288 with 1 Axes>"
      ]
     },
     "metadata": {
      "needs_background": "light"
     },
     "output_type": "display_data"
    },
    {
     "name": "stdout",
     "output_type": "stream",
     "text": [
      "                        mean   count\n",
      "Weather_Conditions                  \n",
      "1                   1.182454  118879\n",
      "2                   1.142655   17665\n",
      "3                   1.154185     227\n",
      "4                   1.136508    1575\n",
      "5                   1.126447    2333\n",
      "6                   1.141026      78\n",
      "7                   1.114210     753\n",
      "8                   1.183105    2332\n",
      "9                   1.579032    2480\n"
     ]
    },
    {
     "data": {
      "image/png": "[encoded data removed]",
      "text/plain": [
       "<Figure size 432x288 with 1 Axes>"
      ]
     },
     "metadata": {
      "needs_background": "light"
     },
     "output_type": "display_data"
    },
    {
     "name": "stdout",
     "output_type": "stream",
     "text": [
      "                             mean   count\n",
      "Road_Surface_Conditions                  \n",
      "-1                       1.801802     222\n",
      " 1                       1.201708  102019\n",
      " 2                       1.137354   41921\n",
      " 3                       1.174757     206\n",
      " 4                       1.087470    1692\n",
      " 5                       1.064885     262\n"
     ]
    },
    {
     "data": {
      "image/png": "[encoded data removed]",
      "text/plain": [
       "<Figure size 432x288 with 1 Axes>"
      ]
     },
     "metadata": {
      "needs_background": "light"
     },
     "output_type": "display_data"
    },
    {
     "name": "stdout",
     "output_type": "stream",
     "text": [
      "                                mean   count\n",
      "Special_Conditions_at_Site                  \n",
      "-1                          2.000000       1\n",
      " 0                          1.183641  143116\n",
      " 1                          1.146119     219\n",
      " 2                          1.055556      54\n",
      " 3                          1.082126     207\n",
      " 4                          1.165173    1562\n",
      " 5                          1.110215     372\n",
      " 6                          1.092269     401\n",
      " 7                          1.112821     390\n"
     ]
    },
    {
     "data": {
      "image/png": "[encoded data removed]",
      "text/plain": [
       "<Figure size 432x288 with 1 Axes>"
      ]
     },
     "metadata": {
      "needs_background": "light"
     },
     "output_type": "display_data"
    },
    {
     "name": "stdout",
     "output_type": "stream",
     "text": [
      "                         mean   count\n",
      "Carriageway_Hazards                  \n",
      "-1                   2.000000       1\n",
      " 0                   1.183282  143909\n",
      " 1                   1.174497     149\n",
      " 2                   1.137380     939\n",
      " 3                   1.071429     182\n",
      " 6                   1.213333     450\n",
      " 7                   1.106936     692\n"
     ]
    },
    {
     "data": {
      "image/png": "[encoded data removed]",
      "text/plain": [
       "<Figure size 432x288 with 1 Axes>"
      ]
     },
     "metadata": {
      "needs_background": "light"
     },
     "output_type": "display_data"
    },
    {
     "name": "stdout",
     "output_type": "stream",
     "text": [
      "                         mean  count\n",
      "Urban_or_Rural_Area                 \n",
      "1                    1.216187  96287\n",
      "2                    1.117897  50035\n"
     ]
    },
    {
     "data": {
      "image/png": "[encoded data removed]",
      "text/plain": [
       "<Figure size 432x288 with 1 Axes>"
      ]
     },
     "metadata": {
      "needs_background": "light"
     },
     "output_type": "display_data"
    }
   ],
   "source": [
    "# I need to make certain there is no field that would compromise my modelling \n",
    "#(e.g that kind of tells whether police came over)\n",
    "# I will examine a handfull with small number of unique classes < =50\n",
    "\n",
    "few_unique_values=[\"Police_Force\",\"Accident_Severity\",\"Number_of_Vehicles\",\"Day_of_Week\",\"1st_Road_Class\",\"Road_Type\",\n",
    "\"Speed_limit\",\"Junction_Detail\",\"Junction_Control\",\"2nd_Road_Class\",\"Pedestrian_Crossing-Human_Control\",\n",
    "\"Pedestrian_Crossing-Physical_Facilities\",\"Light_Conditions\",\"Weather_Conditions\",\"Road_Surface_Conditions\",\n",
    "\"Special_Conditions_at_Site\",\"Carriageway_Hazards\",\"Urban_or_Rural_Area\"]\n",
    "\n",
    "for index,column_name in enumerate(few_unique_values): # for each column in the frame\n",
    "    #print (\" field %s  has %d unique values \" % (column_name ))\n",
    "    aggregate_frame=frame[target].groupby(frame[column_name]).agg(['mean', 'count'])\n",
    "    print(aggregate_frame)\n",
    "\n",
    "    barlist=plt.bar(aggregate_frame.index.values, aggregate_frame['count'].values)\n",
    "    for i in range (0,len(aggregate_frame.index.values)):\n",
    "        barlist[i].set_color([max(0,min(1,(aggregate_frame['mean'].iloc[i]-0.72)*8)),max(0,min(1,(1-aggregate_frame['mean'].iloc[i]-0.72)*8)),0.0]) # this parts tries to link probability to visit with color (e.g. more red --> higher probability)\n",
    "    plt.show()\n",
    "\n",
    "#aggregate_frame\n",
    "#print(aggregate_frame[\"count\"].iloc[0])\n",
    "#print(aggregate_frame.index.values[0])\n",
    "# After a quick look and field cross-checking with the dictionary, I dont see anything that would compromise the modelling\n",
    "# The only thing that it was hard to believe , is that Police Force =4 Lancashire had a police attending all the 3879 an accident happened \n",
    "#yet again, they have some good reputation ! http://lancashire-pcc.gov.uk/latest-news/lancashire-force-named-one-of-best-in-country-again/\n",
    "# Results make great sense actually"
   ]
  },
  {
   "cell_type": "code",
   "execution_count": 11,
   "metadata": {
    "execution": {
     "iopub.execute_input": "2020-09-18T01:09:07.911611Z",
     "iopub.status.busy": "2020-09-18T01:09:07.901272Z",
     "iopub.status.idle": "2020-09-18T01:09:09.212815Z",
     "shell.execute_reply": "2020-09-18T01:09:09.211975Z"
    },
    "id": "DTrsxlUFQS7h",
    "outputId": "16598129-15ed-4025-9727-5d1d3963e361",
    "papermill": {
     "duration": 1.525596,
     "end_time": "2020-09-18T01:09:09.212949",
     "exception": false,
     "start_time": "2020-09-18T01:09:07.687353",
     "status": "completed"
    },
    "tags": []
   },
   "outputs": [
    {
     "name": "stdout",
     "output_type": "stream",
     "text": [
      "           mean  count\n",
      "Month                 \n",
      "1      1.190551  12086\n",
      "2      1.196846  10780\n",
      "3      1.190516  11915\n",
      "4      1.178325  11008\n",
      "5      1.179550  12303\n",
      "6      1.186403  12532\n",
      "7      1.180408  13026\n",
      "8      1.160307  12108\n",
      "9      1.182640  11832\n",
      "10     1.178290  13450\n",
      "11     1.190095  13246\n",
      "12     1.178132  12036\n"
     ]
    },
    {
     "data": {
      "image/png": "[encoded data removed]",
      "text/plain": [
       "<Figure size 432x288 with 1 Axes>"
      ]
     },
     "metadata": {
      "needs_background": "light"
     },
     "output_type": "display_data"
    },
    {
     "name": "stdout",
     "output_type": "stream",
     "text": [
      "         mean  count\n",
      "Day                 \n",
      "1    1.181019   4889\n",
      "2    1.179720   4507\n",
      "3    1.195003   4923\n",
      "4    1.186752   5012\n",
      "5    1.183531   4724\n",
      "6    1.184805   4870\n",
      "7    1.180744   5079\n",
      "8    1.174744   5076\n",
      "9    1.190955   4975\n",
      "10   1.189215   5137\n",
      "11   1.188360   5017\n",
      "12   1.183128   4860\n",
      "13   1.174561   5236\n",
      "14   1.177200   4921\n",
      "15   1.191453   4727\n",
      "16   1.189491   4834\n",
      "17   1.186406   4914\n",
      "18   1.181534   4798\n",
      "19   1.187289   4736\n",
      "20   1.178085   4627\n",
      "21   1.178422   4792\n",
      "22   1.174759   4778\n",
      "23   1.178172   4563\n",
      "24   1.182977   5099\n",
      "25   1.178435   4702\n",
      "26   1.168263   4386\n",
      "27   1.178029   4606\n",
      "28   1.182237   4774\n",
      "29   1.179297   4183\n",
      "30   1.189801   4020\n",
      "31   1.185373   2557\n"
     ]
    },
    {
     "data": {
      "image/png": "[encoded data removed]",
      "text/plain": [
       "<Figure size 432x288 with 1 Axes>"
      ]
     },
     "metadata": {
      "needs_background": "light"
     },
     "output_type": "display_data"
    },
    {
     "name": "stdout",
     "output_type": "stream",
     "text": [
      "          mean  count\n",
      "Hour                 \n",
      "0     1.100744   2015\n",
      "1     1.111883   1439\n",
      "2     1.096685   1086\n",
      "3     1.094360    922\n",
      "4     1.080247    810\n",
      "5     1.136223   1292\n",
      "6     1.160581   2821\n",
      "7     1.182898   6736\n",
      "8     1.215238  10723\n",
      "9     1.183643   7373\n",
      "10    1.170979   6802\n",
      "11    1.174522   7850\n",
      "12    1.191692   8811\n",
      "13    1.190454   8716\n",
      "14    1.190535   8833\n",
      "15    1.212847  11271\n",
      "16    1.196075  11924\n",
      "17    1.202867  13324\n",
      "18    1.199069  10529\n",
      "19    1.171037   7513\n",
      "20    1.158003   5348\n",
      "21    1.150000   4080\n",
      "22    1.123988   3460\n",
      "23    1.113086   2644\n"
     ]
    },
    {
     "data": {
      "image/png": "[encoded data removed]",
      "text/plain": [
       "<Figure size 432x288 with 1 Axes>"
      ]
     },
     "metadata": {
      "needs_background": "light"
     },
     "output_type": "display_data"
    }
   ],
   "source": [
    "#Another concern is time . Ideally a model built in 2014 should be able to predict the future \n",
    "# That is make good predictions for 2015 onward. Therefore that temporal element would need to be respected when validating the model.\n",
    "# However there are certain conditions (such as weather conditions) that occur only certain times in a year. e.g. when\n",
    "# there is fog or mist (weather =7) probability of attending is much higher. Slightly less with snow or rain. \n",
    "# The concern is , building a model on January - August and (lets say) testing it on the last part of the year might give misleading results , as this period is fairly different.\n",
    "# Best scenario would have been to have a whole new (future) year to use as a validation and even later (+2 years) for a test.\n",
    "# In any case lets see the distribution of probbaility to attend and also create some daytime related fields\n",
    "\n",
    "\n",
    "frame['Month']=[int(d.split('/')[1]) for d in frame.Date]\n",
    "frame['Day']=[int(d.split('/')[0]) for d in frame.Date]\n",
    "frame['Hour']=[int(d.split(':')[0]) for d in frame.Time]\n",
    "frame[['Date','Month','Day','Hour','Time']].head(5)\n",
    "\n",
    "for index,column_name in enumerate(['Month','Day','Hour']): # for each column in the frame\n",
    "    #print (\" field %s  has %d unique values \" % (column_name ))\n",
    "    aggregate_frame=frame[target].groupby(frame[column_name]).agg(['mean', 'count'])\n",
    "    print(aggregate_frame)\n",
    "    \n",
    "    barlist=plt.bar(aggregate_frame.index.values, aggregate_frame['count'].values)\n",
    "    for i in range (0,len(aggregate_frame.index.values)):\n",
    "        barlist[i].set_color([max(0,min(1,(aggregate_frame['mean'].iloc[i]-0.72)*8)),max(0,min(1,(1-aggregate_frame['mean'].iloc[i]-0.72)*8)),0.0])\n",
    "    plt.show()\n",
    "\n",
    "\n",
    "# inetersting to see that Police presense is bigger in later (or very early) hours . \n",
    "#It may be related with availability or seriousness of accidents\n",
    "# distribution of police-appearence rate is not much different among months which actully puts my worries at ease. \n",
    "# I would persume that A model optimsed to predict well a case from all months would scale well in the next year (e.g it should not overfit)"
   ]
  },
  {
   "cell_type": "code",
   "execution_count": 12,
   "metadata": {
    "execution": {
     "iopub.execute_input": "2020-09-18T01:09:09.313265Z",
     "iopub.status.busy": "2020-09-18T01:09:09.312120Z",
     "iopub.status.idle": "2020-09-18T01:09:20.574866Z",
     "shell.execute_reply": "2020-09-18T01:09:20.572149Z"
    },
    "id": "c_ZxMnDfQ2KQ",
    "outputId": "7dc784e4-820e-47c8-dedc-506c18a3341c",
    "papermill": {
     "duration": 11.31791,
     "end_time": "2020-09-18T01:09:20.575571",
     "exception": false,
     "start_time": "2020-09-18T01:09:09.257661",
     "status": "completed"
    },
    "tags": []
   },
   "outputs": [
    {
     "name": "stdout",
     "output_type": "stream",
     "text": [
      "Local_Authority_(District)\n",
      "Local_Authority_(Highway)\n",
      "1st_Road_Number\n",
      "2nd_Road_Number\n"
     ]
    },
    {
     "data": {
      "text/html": [
       "<div>\n",
       "<style scoped>\n",
       "    .dataframe tbody tr th:only-of-type {\n",
       "        vertical-align: middle;\n",
       "    }\n",
       "\n",
       "    .dataframe tbody tr th {\n",
       "        vertical-align: top;\n",
       "    }\n",
       "\n",
       "    .dataframe thead th {\n",
       "        text-align: right;\n",
       "    }\n",
       "</style>\n",
       "<table border=\"1\" class=\"dataframe\">\n",
       "  <thead>\n",
       "    <tr style=\"text-align: right;\">\n",
       "      <th></th>\n",
       "      <th>Local_Authority_(District)</th>\n",
       "      <th>Local_Authority_(Highway)</th>\n",
       "      <th>1st_Road_Number</th>\n",
       "      <th>2nd_Road_Number</th>\n",
       "    </tr>\n",
       "  </thead>\n",
       "  <tbody>\n",
       "    <tr>\n",
       "      <th>0</th>\n",
       "      <td>712</td>\n",
       "      <td>712</td>\n",
       "      <td>306</td>\n",
       "      <td>114691</td>\n",
       "    </tr>\n",
       "    <tr>\n",
       "      <th>1</th>\n",
       "      <td>712</td>\n",
       "      <td>712</td>\n",
       "      <td>52</td>\n",
       "      <td>64</td>\n",
       "    </tr>\n",
       "    <tr>\n",
       "      <th>2</th>\n",
       "      <td>712</td>\n",
       "      <td>712</td>\n",
       "      <td>349</td>\n",
       "      <td>114691</td>\n",
       "    </tr>\n",
       "    <tr>\n",
       "      <th>3</th>\n",
       "      <td>712</td>\n",
       "      <td>712</td>\n",
       "      <td>38815</td>\n",
       "      <td>114691</td>\n",
       "    </tr>\n",
       "    <tr>\n",
       "      <th>4</th>\n",
       "      <td>712</td>\n",
       "      <td>712</td>\n",
       "      <td>1388</td>\n",
       "      <td>271</td>\n",
       "    </tr>\n",
       "  </tbody>\n",
       "</table>\n",
       "</div>"
      ],
      "text/plain": [
       "   Local_Authority_(District)  Local_Authority_(Highway)  1st_Road_Number  \\\n",
       "0                         712                        712              306   \n",
       "1                         712                        712               52   \n",
       "2                         712                        712              349   \n",
       "3                         712                        712            38815   \n",
       "4                         712                        712             1388   \n",
       "\n",
       "   2nd_Road_Number  \n",
       "0           114691  \n",
       "1               64  \n",
       "2           114691  \n",
       "3           114691  \n",
       "4              271  "
      ]
     },
     "execution_count": 12,
     "metadata": {},
     "output_type": "execute_result"
    }
   ],
   "source": [
    "# there are still some concerns about fields , Location_Easting_OSGR, Location_Northing_OSGR ,LSOA_of_Accident_Location\n",
    "# they have many unique values and based on their definition, are unlikely to yield more informtion already encapsulated in lat,lon\n",
    "\n",
    "#columns with many unique values (>50)\n",
    "\n",
    "columns_many_uniques=[\"Local_Authority_(District)\",\"Local_Authority_(Highway)\",\"1st_Road_Number\",\"2nd_Road_Number\"]\n",
    "\n",
    "#I could use a sparse represantation (after converting the unqiue values to dummines-binary features), however\n",
    "# counts should work quite well with the type of model I intend to use (tree-based) which could cature nonlinearities fairly well\n",
    "# based on this , I could convert these fields via replacing their values with their respective counts\n",
    "# in other words the variables would represent \"is it a popular district\"? instead of which district it is\n",
    "# This way we reduce model complexity , commonly not losing information (if not getting better)\n",
    "\n",
    "\n",
    "for index,column_name in enumerate(columns_many_uniques): # for each column in the selected list for counts' conversion\n",
    "        print (column_name)#, len(np.unique(frame[column_name])))    \n",
    "        counters = frame[column_name].value_counts().to_dict()    \n",
    "        frame[column_name].replace(counters, inplace=True)    \n",
    "        \n",
    "frame[columns_many_uniques].head(5)"
   ]
  },
  {
   "cell_type": "code",
   "execution_count": 13,
   "metadata": {
    "execution": {
     "iopub.execute_input": "2020-09-18T01:09:21.019393Z",
     "iopub.status.busy": "2020-09-18T01:09:21.004053Z",
     "iopub.status.idle": "2020-09-18T01:09:21.093881Z",
     "shell.execute_reply": "2020-09-18T01:09:21.096230Z"
    },
    "id": "k-WzX9LVQ-SZ",
    "outputId": "b13f8458-6f84-485c-fb34-8ea02f6570be",
    "papermill": {
     "duration": 0.351994,
     "end_time": "2020-09-18T01:09:21.096980",
     "exception": false,
     "start_time": "2020-09-18T01:09:20.744986",
     "status": "completed"
    },
    "tags": []
   },
   "outputs": [
    {
     "name": "stdout",
     "output_type": "stream",
     "text": [
      "before removal:  (146322, 35)\n",
      "After removal:  (146322, 29)\n",
      "1.1825767827121008 173037 146322\n",
      "After target removal:  (146322, 28)\n"
     ]
    }
   ],
   "source": [
    "#dropping fields I will not use\n",
    "drop_fields=[\"Accident_Index\",\"Location_Easting_OSGR\", \"Location_Northing_OSGR\",\"LSOA_of_Accident_Location\" ,\"Date\", \"Time\" ]\n",
    "print (\"before removal: \" , frame.shape)\n",
    "#print(frame.columns.values)\n",
    "#after\n",
    "frame.drop(drop_fields,axis=1, inplace=True)\n",
    "print (\"After removal: \" , frame.shape)\n",
    "#separate target \n",
    "y= np.array(frame[target].values)\n",
    "#check\n",
    "print (np.mean(y), np.sum(y), len(y))\n",
    "frame.drop(target, axis=1, inplace=True)  \n",
    "print (\"After target removal: \" , frame.shape)"
   ]
  },
  {
   "cell_type": "code",
   "execution_count": 14,
   "metadata": {
    "execution": {
     "iopub.execute_input": "2020-09-18T01:09:21.260193Z",
     "iopub.status.busy": "2020-09-18T01:09:21.259233Z",
     "iopub.status.idle": "2020-09-18T01:09:21.265044Z",
     "shell.execute_reply": "2020-09-18T01:09:21.264366Z"
    },
    "id": "ZhgO55C_RMlf",
    "outputId": "1b6d15a7-6d71-4c6f-b4b8-744984b85f5c",
    "papermill": {
     "duration": 0.06773,
     "end_time": "2020-09-18T01:09:21.265191",
     "exception": false,
     "start_time": "2020-09-18T01:09:21.197461",
     "status": "completed"
    },
    "tags": []
   },
   "outputs": [
    {
     "data": {
      "text/plain": [
       "'\\ncols_to_be_binarized=[\"Police_Force\",\"Road_Type\",\"Junction_Detail\",\"Junction_Control\",\"2nd_Road_Class\",\\n                      \"Pedestrian_Crossing-Physical_Facilities\",\"Light_Conditions\",\"Weather_Conditions\"]\\n\\nfor index,column_name in enumerate(cols_to_be_binarized): # for each column in the selected list for dummies\\n    \\n    frames=pd.get_dummies(frame[column_name], drop_first=True)\\n    frame = pd.concat([frame, frames], axis=1) # merging frames\\n    print (\"columns shape after binarizing %s is %d \"  % ( column_name,frame.shape[1]))\\n    \\n#drop initial columns used for the dummies\\n\\nframe.drop(cols_to_be_binarized,axis=1, inplace=True)\\nprint (\"After removin cols_to_be_binarized : \" , frame.shape)\\n'"
      ]
     },
     "execution_count": 14,
     "metadata": {},
     "output_type": "execute_result"
    }
   ],
   "source": [
    "# create dummies for (or binarize) variables that dont have any logical numerical relationship with the target\n",
    "########This field gets commented out as converting to dummies gave worse results##############\n",
    "\"\"\"\n",
    "cols_to_be_binarized=[\"Police_Force\",\"Road_Type\",\"Junction_Detail\",\"Junction_Control\",\"2nd_Road_Class\",\n",
    "                      \"Pedestrian_Crossing-Physical_Facilities\",\"Light_Conditions\",\"Weather_Conditions\"]\n",
    "\n",
    "for index,column_name in enumerate(cols_to_be_binarized): # for each column in the selected list for dummies\n",
    "    \n",
    "    frames=pd.get_dummies(frame[column_name], drop_first=True)\n",
    "    frame = pd.concat([frame, frames], axis=1) # merging frames\n",
    "    print (\"columns shape after binarizing %s is %d \"  % ( column_name,frame.shape[1]))\n",
    "    \n",
    "#drop initial columns used for the dummies\n",
    "\n",
    "frame.drop(cols_to_be_binarized,axis=1, inplace=True)\n",
    "print (\"After removin cols_to_be_binarized : \" , frame.shape)\n",
    "\"\"\""
   ]
  }
 ],
 "metadata": {
  "kernelspec": {
   "display_name": "Python 3",
   "language": "python",
   "name": "python3"
  },
  "language_info": {
   "codemirror_mode": {
    "name": "ipython",
    "version": 3
   },
   "file_extension": ".py",
   "mimetype": "text/x-python",
   "name": "python",
   "nbconvert_exporter": "python",
   "pygments_lexer": "ipython3",
   "version": "3.7.6"
  },
  "papermill": {
   "duration": 25.358023,
   "end_time": "2020-09-18T01:09:21.435882",
   "environment_variables": {},
   "exception": null,
   "input_path": "__notebook__.ipynb",
   "output_path": "__notebook__.ipynb",
   "parameters": {},
   "start_time": "2020-09-18T01:08:56.077859",
   "version": "2.1.0"
  }
 },
 "nbformat": 4,
 "nbformat_minor": 4
}
